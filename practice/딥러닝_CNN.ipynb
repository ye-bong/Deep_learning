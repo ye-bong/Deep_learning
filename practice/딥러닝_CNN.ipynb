{
 "cells": [
  {
   "cell_type": "markdown",
   "id": "37a25059",
   "metadata": {},
   "source": [
    "# 이미지 처리 LeNet"
   ]
  },
  {
   "cell_type": "code",
   "execution_count": null,
   "id": "df9e4cb8",
   "metadata": {},
   "outputs": [],
   "source": [
    "import numpy as np\n",
    "import tensorflow as tf\n",
    "import tensorflow.keras as keras\n",
    "\n",
    "from tensorflow.keras.models import Sequential\n",
    "from tensorflow.keras.layers import InputLayer, Conv2D, AveragePooling2D, Flatten, Dense, ZeroPadding2D\n",
    "\n",
    "from sklearn.model_selection import train_test_split"
   ]
  },
  {
   "cell_type": "code",
   "execution_count": null,
   "id": "e3335246",
   "metadata": {},
   "outputs": [],
   "source": [
    "(x_train, y_train), (x_test, y_test) = keras.datasets.mnist.load_data()\n",
    "\n",
    "x_train = x_train.reshape(-1,28,28,1)\n",
    "x_test = x_test.reshape(-1,28,28,1)\n",
    "\n",
    "x_train, x_val, y_train, y_val = train_test_split(x_train, y_train, test_size = 0.2)\n",
    "\n",
    "x_train = x_train/255.0\n",
    "x_val = x_val/255.0\n",
    "x_test = x_test/255.0"
   ]
  },
  {
   "cell_type": "code",
   "execution_count": null,
   "id": "cc0c6c64",
   "metadata": {},
   "outputs": [],
   "source": [
    "LeNet = Sequential([InputLayer(input_shape=(28,28,1)), \n",
    "                    ZeroPadding2D((2,2)),\n",
    "                    Conv2D(6,5, activation=\"tanh\"),\n",
    "                    AveragePooling2D(strides=2), # 2x2 크기라서 strides=2, 그리고 Conv에서의 strides와 다름\n",
    "                    Conv2D(16,5,activation=\"tanh\"),\n",
    "                    AveragePooling2D(strides=2),\n",
    "                    Conv2D(120,5, activation=\"tanh\"),\n",
    "                    Flatten(), # FC layer 과정\n",
    "                    Dense(84,activation=\"tanh\"), # FC layer 과정\n",
    "                    Dense(10,activation=\"softmax\")])"
   ]
  },
  {
   "cell_type": "code",
   "execution_count": null,
   "id": "1fa89f5e",
   "metadata": {},
   "outputs": [],
   "source": [
    "LeNet.compile(optimizer=\"SGD\",\n",
    "             loss=\"sparse_categorical_crossentropy\",\n",
    "             metrics=\"accuracy\")"
   ]
  },
  {
   "cell_type": "code",
   "execution_count": null,
   "id": "a319a414",
   "metadata": {},
   "outputs": [],
   "source": [
    "LeNet.summary()"
   ]
  },
  {
   "cell_type": "code",
   "execution_count": null,
   "id": "d54f6da0",
   "metadata": {},
   "outputs": [],
   "source": [
    "LeNet.fit(x_train, y_train, epochs=10)"
   ]
  },
  {
   "cell_type": "code",
   "execution_count": null,
   "id": "b1342efb",
   "metadata": {},
   "outputs": [],
   "source": [
    "LeNet.evaluate(x_test, y_test)"
   ]
  },
  {
   "cell_type": "markdown",
   "id": "d4ad1d2a",
   "metadata": {},
   "source": [
    "# AlexNet"
   ]
  },
  {
   "cell_type": "code",
   "execution_count": null,
   "id": "bddb9403",
   "metadata": {},
   "outputs": [],
   "source": [
    "import tensorflow as tf\n",
    "\n",
    "from tensorflow.keras.models import Sequential\n",
    "from tensorflow.keras.layers import Dense, Dropout, Flatten, Conv2D, MaxPool2D"
   ]
  },
  {
   "cell_type": "code",
   "execution_count": null,
   "id": "64c1d144",
   "metadata": {},
   "outputs": [],
   "source": [
    "# 데이터 불러오기\n",
    "train_ds = tf.keras.utils.image_dataset_from_directory(\n",
    "    directory=\"./dogs_vs_cats/train\",\n",
    "    labels=\"inferred\",\n",
    "    label_mode='int',\n",
    "    batch_size=32,\n",
    "    image_size=(227,227)\n",
    ")\n",
    "\n",
    "test_ds = tf.keras.utils.image_dataset_from_directory(\n",
    "    directory=\"./dogs_vs_cats/test\",\n",
    "    labels=\"inferred\", # labels are generated from the directory structure\n",
    "    label_mode='int', # 0=cats & 1=dogs\n",
    "    batch_size=32,\n",
    "    image_size=(227,227)\n",
    ")"
   ]
  },
  {
   "cell_type": "code",
   "execution_count": null,
   "id": "e4fbbf4f",
   "metadata": {},
   "outputs": [],
   "source": [
    "# 데이터 정규화하기\n",
    "# Normalize\n",
    "def process(image, label):\n",
    "    image = tf.cast(image/255., tf.float32)\n",
    "    return image, label\n",
    "\n",
    "train_ds = train_ds.map(process)\n",
    "test_ds = test_ds.map(process)"
   ]
  },
  {
   "cell_type": "code",
   "execution_count": null,
   "id": "fb700683",
   "metadata": {},
   "outputs": [],
   "source": [
    "model = Sequential(name='alex_net')\n",
    "model.add(Conv2D(filters=96, kernel_size=11,strides=4, activation='relu',input_shape=(227,227,3)))\n",
    "model.add(MaxPool2D(pool_size=3,strides=2))\n",
    "\n",
    "model.add(Conv2D(filters=256, kernel_size=5, activation='relu',padding=\"same\"))\n",
    "model.add(MaxPool2D(pool_size=3,strides=2))\n",
    "\n",
    "model.add(Conv2D(filters=384, kernel_size=3,strides=1,activation='relu',padding=\"same\"))\n",
    "model.add(Conv2D(filters=384,kernel_size=3,strides=1,activation='relu',padding=\"same\"))\n",
    "model.add(Conv2D(filters=256,kernel_size=3,strides=1,activation='relu',padding=\"same\"))\n",
    "model.add(MaxPool2D(pool_size=3,strides=2))\n",
    "\n",
    "model.add(Flatten())\n",
    "model.add(Dense(4096,activation='relu'))\n",
    "model.add(Dropout(0.5)) # 가중치 선택(drop), 정규화 기법 중 하나, 주로 Dense에서 많이 함\n",
    "model.add(Dense(4096,activation='relu'))\n",
    "model.add(Dropout(0.5))\n",
    "model.add(Dense(1 ,activation='sigmoid')) # 가장 확률이 높은 것으로 클래스를 분류\n",
    "\n",
    "model.compile(optimizer=\"adam\",loss=\"binary_crossentropy\",metrics=[\"accuracy\"])"
   ]
  },
  {
   "cell_type": "code",
   "execution_count": null,
   "id": "fe27d00c",
   "metadata": {},
   "outputs": [],
   "source": [
    "model.summary()"
   ]
  },
  {
   "cell_type": "code",
   "execution_count": null,
   "id": "10180d9d",
   "metadata": {},
   "outputs": [],
   "source": [
    "# 모델 적용하기\n",
    "model.fit(train_ds, epochs=10,validation_data=test_ds)"
   ]
  },
  {
   "cell_type": "code",
   "execution_count": null,
   "id": "b0e0ccb5",
   "metadata": {},
   "outputs": [],
   "source": []
  },
  {
   "cell_type": "markdown",
   "id": "a671887f",
   "metadata": {},
   "source": [
    "# VGGNet \n",
    "- 레이어의 갯수가 크면 더 성능이 좋지 않을까?를 실험한 모델"
   ]
  },
  {
   "cell_type": "code",
   "execution_count": null,
   "id": "cdb56b5a",
   "metadata": {},
   "outputs": [],
   "source": [
    "import tensorflow as tf\n",
    "\n",
    "from tensorflow.keras.models import Sequential\n",
    "from tensorflow.keras.layers import Dense, Dropout, Flatten, Conv2D, MaxPool2D"
   ]
  },
  {
   "cell_type": "code",
   "execution_count": null,
   "id": "ff918ddb",
   "metadata": {},
   "outputs": [],
   "source": [
    "# 모델 선언하기\n",
    "vgg = Sequential(name=\"vgg16\")\n",
    "vgg.add(Conv2D(64,3, strides = 1, activation=\"relu\", padding=\"same\", input_shape=(227,227,3)))\n",
    "vgg.add(Conv2D(64,3, strides = 1, activation=\"relu\", padding=\"same\")) # 3x3필터, 64개의 필터\n",
    "vgg.add(MaxPool2D(2,2)) # strides = 2랑 (2,2)랑 같음\n",
    "vgg.add(Conv2D(128,3, strides=1, activation=\"relu\", padding=\"same\"))\n",
    "vgg.add(Conv2D(128,3, strides=1, activation=\"relu\", padding=\"same\"))\n",
    "vgg.add(MaxPool2D(2,2))\n",
    "vgg.add(Conv2D(256,3, strides=1, activation=\"relu\", padding=\"same\"))\n",
    "vgg.add(Conv2D(256,3, strides=1, activation='relu', padding=\"same\"))\n",
    "vgg.add(Conv2D(256,1, strides=1, activation='relu', padding=\"same\"))\n",
    "vgg.add(MaxPool2D(2,2))\n",
    "vgg.add(Conv2D(512,3, strides=1, activation=\"relu\", padding=\"same\"))\n",
    "vgg.add(Conv2D(512,3, strides=1, activation='relu', padding=\"same\"))\n",
    "vgg.add(Conv2D(512,1, strides=1, activation='relu', padding=\"same\"))\n",
    "vgg.add(MaxPool2D(2,2))\n",
    "vgg.add(Conv2D(512,3, strides=1, activation=\"relu\", padding=\"same\"))\n",
    "vgg.add(Conv2D(512,3, strides=1, activation='relu', padding=\"same\"))\n",
    "vgg.add(Conv2D(512,1, strides=1, activation='relu', padding=\"same\"))\n",
    "vgg.add(MaxPool2D(2,2))\n",
    "vgg.add(Flatten())\n",
    "vgg.add(Dense(4096,activation='relu'))\n",
    "vgg.add(Dense(4096,activation='relu'))\n",
    "vgg.add(Dense(1,activation=\"sigmoid\")) # 이진분류일때는 output 클래스 분류 갯수가 1개만 이어도 괜찮음\n",
    "# 왜냐하면 하나가 1(True)이면 나머지는 자동으로 0(False)이니깐!\n",
    "# class분류가 3개 이상이면 softmax, 분류가 2개면 sigmoid"
   ]
  },
  {
   "cell_type": "code",
   "execution_count": null,
   "id": "f21b6b95",
   "metadata": {},
   "outputs": [],
   "source": [
    "vgg.summary()"
   ]
  },
  {
   "cell_type": "code",
   "execution_count": null,
   "id": "38af801c",
   "metadata": {},
   "outputs": [],
   "source": [
    "vgg.compile(optimizer=\"adam\", loss=\"binary_crossentropy\", metrics=[\"accuracy\"])\n",
    "# 분류가 3개 이상이면 sparse_categorical_crossentropy 이거나 categorical_crossentropy 사용!\n",
    "# binary_crossentropy는 이진분류"
   ]
  },
  {
   "cell_type": "code",
   "execution_count": null,
   "id": "3df193df",
   "metadata": {},
   "outputs": [],
   "source": [
    "# 모델 적용하기\n",
    "vgg.fit(train_ds, epochs=10,validation_data=test_ds)"
   ]
  },
  {
   "cell_type": "code",
   "execution_count": null,
   "id": "0eab73c7",
   "metadata": {},
   "outputs": [],
   "source": []
  }
 ],
 "metadata": {
  "kernelspec": {
   "display_name": "Python 3 (ipykernel)",
   "language": "python",
   "name": "python3"
  },
  "language_info": {
   "codemirror_mode": {
    "name": "ipython",
    "version": 3
   },
   "file_extension": ".py",
   "mimetype": "text/x-python",
   "name": "python",
   "nbconvert_exporter": "python",
   "pygments_lexer": "ipython3",
   "version": "3.10.9"
  }
 },
 "nbformat": 4,
 "nbformat_minor": 5
}
