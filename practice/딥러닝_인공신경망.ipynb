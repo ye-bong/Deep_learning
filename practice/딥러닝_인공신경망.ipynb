{
 "cells": [
  {
   "cell_type": "code",
   "execution_count": 1,
   "id": "37cb4f3e",
   "metadata": {},
   "outputs": [
    {
     "name": "stdout",
     "output_type": "stream",
     "text": [
      "Defaulting to user installation because normal site-packages is not writeable\n",
      "Requirement already satisfied: tensorflow in c:\\users\\leah5\\appdata\\roaming\\python\\python310\\site-packages (2.13.0)\n",
      "Requirement already satisfied: tensorflow-intel==2.13.0 in c:\\users\\leah5\\appdata\\roaming\\python\\python310\\site-packages (from tensorflow) (2.13.0)\n",
      "Requirement already satisfied: astunparse>=1.6.0 in c:\\users\\leah5\\appdata\\roaming\\python\\python310\\site-packages (from tensorflow-intel==2.13.0->tensorflow) (1.6.3)\n",
      "Requirement already satisfied: absl-py>=1.0.0 in c:\\users\\leah5\\appdata\\roaming\\python\\python310\\site-packages (from tensorflow-intel==2.13.0->tensorflow) (1.4.0)\n",
      "Requirement already satisfied: numpy<=1.24.3,>=1.22 in c:\\programdata\\anaconda3\\lib\\site-packages (from tensorflow-intel==2.13.0->tensorflow) (1.23.5)\n",
      "Requirement already satisfied: opt-einsum>=2.3.2 in c:\\users\\leah5\\appdata\\roaming\\python\\python310\\site-packages (from tensorflow-intel==2.13.0->tensorflow) (3.3.0)\n",
      "Requirement already satisfied: keras<2.14,>=2.13.1 in c:\\users\\leah5\\appdata\\roaming\\python\\python310\\site-packages (from tensorflow-intel==2.13.0->tensorflow) (2.13.1)\n",
      "Requirement already satisfied: tensorflow-io-gcs-filesystem>=0.23.1 in c:\\users\\leah5\\appdata\\roaming\\python\\python310\\site-packages (from tensorflow-intel==2.13.0->tensorflow) (0.31.0)\n",
      "Requirement already satisfied: setuptools in c:\\programdata\\anaconda3\\lib\\site-packages (from tensorflow-intel==2.13.0->tensorflow) (65.6.3)\n",
      "Requirement already satisfied: tensorflow-estimator<2.14,>=2.13.0 in c:\\users\\leah5\\appdata\\roaming\\python\\python310\\site-packages (from tensorflow-intel==2.13.0->tensorflow) (2.13.0)\n",
      "Requirement already satisfied: tensorboard<2.14,>=2.13 in c:\\users\\leah5\\appdata\\roaming\\python\\python310\\site-packages (from tensorflow-intel==2.13.0->tensorflow) (2.13.0)\n",
      "Requirement already satisfied: flatbuffers>=23.1.21 in c:\\users\\leah5\\appdata\\roaming\\python\\python310\\site-packages (from tensorflow-intel==2.13.0->tensorflow) (23.5.26)\n",
      "Requirement already satisfied: typing-extensions<4.6.0,>=3.6.6 in c:\\programdata\\anaconda3\\lib\\site-packages (from tensorflow-intel==2.13.0->tensorflow) (4.4.0)\n",
      "Requirement already satisfied: libclang>=13.0.0 in c:\\users\\leah5\\appdata\\roaming\\python\\python310\\site-packages (from tensorflow-intel==2.13.0->tensorflow) (16.0.6)\n",
      "Requirement already satisfied: six>=1.12.0 in c:\\programdata\\anaconda3\\lib\\site-packages (from tensorflow-intel==2.13.0->tensorflow) (1.16.0)\n",
      "Requirement already satisfied: google-pasta>=0.1.1 in c:\\users\\leah5\\appdata\\roaming\\python\\python310\\site-packages (from tensorflow-intel==2.13.0->tensorflow) (0.2.0)\n",
      "Requirement already satisfied: grpcio<2.0,>=1.24.3 in c:\\users\\leah5\\appdata\\roaming\\python\\python310\\site-packages (from tensorflow-intel==2.13.0->tensorflow) (1.58.0)\n",
      "Requirement already satisfied: termcolor>=1.1.0 in c:\\users\\leah5\\appdata\\roaming\\python\\python310\\site-packages (from tensorflow-intel==2.13.0->tensorflow) (2.3.0)\n",
      "Requirement already satisfied: h5py>=2.9.0 in c:\\programdata\\anaconda3\\lib\\site-packages (from tensorflow-intel==2.13.0->tensorflow) (3.7.0)\n",
      "Requirement already satisfied: gast<=0.4.0,>=0.2.1 in c:\\users\\leah5\\appdata\\roaming\\python\\python310\\site-packages (from tensorflow-intel==2.13.0->tensorflow) (0.4.0)\n",
      "Requirement already satisfied: wrapt>=1.11.0 in c:\\programdata\\anaconda3\\lib\\site-packages (from tensorflow-intel==2.13.0->tensorflow) (1.14.1)\n",
      "Requirement already satisfied: protobuf!=4.21.0,!=4.21.1,!=4.21.2,!=4.21.3,!=4.21.4,!=4.21.5,<5.0.0dev,>=3.20.3 in c:\\users\\leah5\\appdata\\roaming\\python\\python310\\site-packages (from tensorflow-intel==2.13.0->tensorflow) (4.24.2)\n",
      "Requirement already satisfied: packaging in c:\\programdata\\anaconda3\\lib\\site-packages (from tensorflow-intel==2.13.0->tensorflow) (22.0)\n",
      "Requirement already satisfied: wheel<1.0,>=0.23.0 in c:\\programdata\\anaconda3\\lib\\site-packages (from astunparse>=1.6.0->tensorflow-intel==2.13.0->tensorflow) (0.38.4)\n",
      "Requirement already satisfied: markdown>=2.6.8 in c:\\programdata\\anaconda3\\lib\\site-packages (from tensorboard<2.14,>=2.13->tensorflow-intel==2.13.0->tensorflow) (3.4.1)\n",
      "Requirement already satisfied: requests<3,>=2.21.0 in c:\\programdata\\anaconda3\\lib\\site-packages (from tensorboard<2.14,>=2.13->tensorflow-intel==2.13.0->tensorflow) (2.28.1)\n",
      "Requirement already satisfied: tensorboard-data-server<0.8.0,>=0.7.0 in c:\\users\\leah5\\appdata\\roaming\\python\\python310\\site-packages (from tensorboard<2.14,>=2.13->tensorflow-intel==2.13.0->tensorflow) (0.7.1)\n",
      "Requirement already satisfied: google-auth-oauthlib<1.1,>=0.5 in c:\\users\\leah5\\appdata\\roaming\\python\\python310\\site-packages (from tensorboard<2.14,>=2.13->tensorflow-intel==2.13.0->tensorflow) (1.0.0)\n",
      "Requirement already satisfied: werkzeug>=1.0.1 in c:\\programdata\\anaconda3\\lib\\site-packages (from tensorboard<2.14,>=2.13->tensorflow-intel==2.13.0->tensorflow) (2.2.2)\n",
      "Requirement already satisfied: google-auth<3,>=1.6.3 in c:\\users\\leah5\\appdata\\roaming\\python\\python310\\site-packages (from tensorboard<2.14,>=2.13->tensorflow-intel==2.13.0->tensorflow) (2.22.0)\n",
      "Requirement already satisfied: rsa<5,>=3.1.4 in c:\\users\\leah5\\appdata\\roaming\\python\\python310\\site-packages (from google-auth<3,>=1.6.3->tensorboard<2.14,>=2.13->tensorflow-intel==2.13.0->tensorflow) (4.9)\n",
      "Requirement already satisfied: pyasn1-modules>=0.2.1 in c:\\programdata\\anaconda3\\lib\\site-packages (from google-auth<3,>=1.6.3->tensorboard<2.14,>=2.13->tensorflow-intel==2.13.0->tensorflow) (0.2.8)\n",
      "Requirement already satisfied: cachetools<6.0,>=2.0.0 in c:\\users\\leah5\\appdata\\roaming\\python\\python310\\site-packages (from google-auth<3,>=1.6.3->tensorboard<2.14,>=2.13->tensorflow-intel==2.13.0->tensorflow) (5.3.1)\n",
      "Requirement already satisfied: urllib3<2.0 in c:\\programdata\\anaconda3\\lib\\site-packages (from google-auth<3,>=1.6.3->tensorboard<2.14,>=2.13->tensorflow-intel==2.13.0->tensorflow) (1.26.14)\n",
      "Requirement already satisfied: requests-oauthlib>=0.7.0 in c:\\users\\leah5\\appdata\\roaming\\python\\python310\\site-packages (from google-auth-oauthlib<1.1,>=0.5->tensorboard<2.14,>=2.13->tensorflow-intel==2.13.0->tensorflow) (1.3.1)\n",
      "Requirement already satisfied: charset-normalizer<3,>=2 in c:\\programdata\\anaconda3\\lib\\site-packages (from requests<3,>=2.21.0->tensorboard<2.14,>=2.13->tensorflow-intel==2.13.0->tensorflow) (2.0.4)\n",
      "Requirement already satisfied: certifi>=2017.4.17 in c:\\programdata\\anaconda3\\lib\\site-packages (from requests<3,>=2.21.0->tensorboard<2.14,>=2.13->tensorflow-intel==2.13.0->tensorflow) (2022.12.7)\n",
      "Requirement already satisfied: idna<4,>=2.5 in c:\\programdata\\anaconda3\\lib\\site-packages (from requests<3,>=2.21.0->tensorboard<2.14,>=2.13->tensorflow-intel==2.13.0->tensorflow) (3.4)\n",
      "Requirement already satisfied: MarkupSafe>=2.1.1 in c:\\programdata\\anaconda3\\lib\\site-packages (from werkzeug>=1.0.1->tensorboard<2.14,>=2.13->tensorflow-intel==2.13.0->tensorflow) (2.1.1)\n",
      "Requirement already satisfied: pyasn1<0.5.0,>=0.4.6 in c:\\programdata\\anaconda3\\lib\\site-packages (from pyasn1-modules>=0.2.1->google-auth<3,>=1.6.3->tensorboard<2.14,>=2.13->tensorflow-intel==2.13.0->tensorflow) (0.4.8)\n",
      "Requirement already satisfied: oauthlib>=3.0.0 in c:\\users\\leah5\\appdata\\roaming\\python\\python310\\site-packages (from requests-oauthlib>=0.7.0->google-auth-oauthlib<1.1,>=0.5->tensorboard<2.14,>=2.13->tensorflow-intel==2.13.0->tensorflow) (3.2.2)\n",
      "Note: you may need to restart the kernel to use updated packages.\n"
     ]
    }
   ],
   "source": [
    "pip install tensorflow"
   ]
  },
  {
   "cell_type": "code",
   "execution_count": 2,
   "id": "d260a29b",
   "metadata": {},
   "outputs": [
    {
     "name": "stdout",
     "output_type": "stream",
     "text": [
      "2.13.0\n"
     ]
    }
   ],
   "source": [
    "import tensorflow as tf\n",
    "print(tf.__version__)"
   ]
  },
  {
   "cell_type": "code",
   "execution_count": 3,
   "id": "f177ee5e",
   "metadata": {},
   "outputs": [
    {
     "name": "stdout",
     "output_type": "stream",
     "text": [
      "Defaulting to user installation because normal site-packages is not writeable\n",
      "Requirement already satisfied: torch in c:\\programdata\\anaconda3\\lib\\site-packages (1.12.1)\n",
      "Requirement already satisfied: typing_extensions in c:\\programdata\\anaconda3\\lib\\site-packages (from torch) (4.4.0)\n",
      "Note: you may need to restart the kernel to use updated packages.\n"
     ]
    }
   ],
   "source": [
    "pip install torch"
   ]
  },
  {
   "cell_type": "code",
   "execution_count": 4,
   "id": "493d4197",
   "metadata": {},
   "outputs": [
    {
     "name": "stdout",
     "output_type": "stream",
     "text": [
      "1.12.1\n"
     ]
    }
   ],
   "source": [
    "import torch\n",
    "print(torch.__version__)"
   ]
  },
  {
   "cell_type": "code",
   "execution_count": 5,
   "id": "208f915f",
   "metadata": {},
   "outputs": [],
   "source": [
    "import numpy as np\n",
    "import tensorflow as tf\n",
    "import matplotlib.pyplot as plt"
   ]
  },
  {
   "cell_type": "code",
   "execution_count": 6,
   "id": "388b321a",
   "metadata": {},
   "outputs": [],
   "source": [
    "x = np.linspace(0,50,50)\n",
    "y = x + np.random.normal(0,1,50)"
   ]
  },
  {
   "cell_type": "code",
   "execution_count": 7,
   "id": "4225b69d",
   "metadata": {},
   "outputs": [
    {
     "data": {
      "text/plain": [
       "<matplotlib.collections.PathCollection at 0x1fba011f3a0>"
      ]
     },
     "execution_count": 7,
     "metadata": {},
     "output_type": "execute_result"
    },
    {
     "data": {
      "image/png": "[encoded data removed]",
      "text/plain": [
       "<Figure size 640x480 with 1 Axes>"
      ]
     },
     "metadata": {},
     "output_type": "display_data"
    }
   ],
   "source": [
    "plt.scatter(x,y)"
   ]
  },
  {
   "cell_type": "code",
   "execution_count": 8,
   "id": "3e9026f7",
   "metadata": {},
   "outputs": [],
   "source": [
    "epochs = 10\n",
    "learning_rate = 0.001"
   ]
  },
  {
   "cell_type": "code",
   "execution_count": 9,
   "id": "0364a94a",
   "metadata": {},
   "outputs": [],
   "source": [
    "W = tf.Variable(0.)\n",
    "b = tf.Variable(0.)"
   ]
  },
  {
   "cell_type": "code",
   "execution_count": 10,
   "id": "96e8920c",
   "metadata": {},
   "outputs": [],
   "source": [
    "def linear_regression(x):\n",
    "    y = W * x + b\n",
    "    return y"
   ]
  },
  {
   "cell_type": "code",
   "execution_count": 11,
   "id": "0cab42a7",
   "metadata": {},
   "outputs": [],
   "source": [
    "def MSE(y_pred, y_true):\n",
    "    return tf.reduce_mean(tf.square(y_pred - y_true))"
   ]
  },
  {
   "cell_type": "code",
   "execution_count": 19,
   "id": "cfb83ae1",
   "metadata": {},
   "outputs": [
    {
     "name": "stdout",
     "output_type": "stream",
     "text": [
      "[Epoch 1] loss value: 87.43060302734375\n",
      "[Epoch 2] loss value: 41.432891845703125\n",
      "[Epoch 3] loss value: 19.839574813842773\n",
      "[Epoch 4] loss value: 9.702762603759766\n",
      "[Epoch 5] loss value: 4.944112777709961\n",
      "[Epoch 6] loss value: 2.7101876735687256\n",
      "[Epoch 7] loss value: 1.6614854335784912\n",
      "[Epoch 8] loss value: 1.1691738367080688\n",
      "[Epoch 9] loss value: 0.9380520582199097\n",
      "[Epoch 10] loss value: 0.8295464515686035\n"
     ]
    }
   ],
   "source": [
    "for epoch in range(epochs):\n",
    "    \n",
    "    with tf.GradientTape() as tape:\n",
    "        y_pred = linear_regression(x)\n",
    "        loss = MSE(y_pred, y)\n",
    "        \n",
    "    W_grad, b_grad = tape.gradient(loss, [W,b])\n",
    "    \n",
    "    W.assign_sub(W_grad * learning_rate)\n",
    "    b.assign_sub(b_grad * learning_rate)\n",
    "    \n",
    "    print(f\"[Epoch {epoch+1}] loss value: {loss.numpy()}\")"
   ]
  },
  {
   "cell_type": "code",
   "execution_count": 20,
   "id": "1b58eaab",
   "metadata": {},
   "outputs": [
    {
     "data": {
      "image/png": "[encoded data removed]",
      "text/plain": [
       "<Figure size 640x480 with 1 Axes>"
      ]
     },
     "metadata": {},
     "output_type": "display_data"
    }
   ],
   "source": [
    "plt.scatter(x,y)\n",
    "plt.plot(x, linear_regression(x), \"r\")\n",
    "plt.show()"
   ]
  },
  {
   "cell_type": "code",
   "execution_count": 21,
   "id": "64a183e4",
   "metadata": {},
   "outputs": [],
   "source": [
    "# keras 함수를 이용하기"
   ]
  },
  {
   "cell_type": "code",
   "execution_count": 1,
   "id": "49105230",
   "metadata": {},
   "outputs": [],
   "source": [
    "import tensorflow as tf\n",
    "import numpy as np"
   ]
  },
  {
   "cell_type": "code",
   "execution_count": 2,
   "id": "34087c30",
   "metadata": {},
   "outputs": [],
   "source": [
    "x_train = [1, 2, 3]\n",
    "y_train = [1, 2, 3]"
   ]
  },
  {
   "cell_type": "code",
   "execution_count": 3,
   "id": "806b9b06",
   "metadata": {},
   "outputs": [],
   "source": [
    "sgd = tf.keras.optimizers.SGD(learning_rate=0.01)"
   ]
  },
  {
   "cell_type": "code",
   "execution_count": 4,
   "id": "c4ae5b89",
   "metadata": {},
   "outputs": [],
   "source": [
    "model = tf.keras.models.Sequential()\n",
    "model.add(tf.keras.layers.Dense(1, input_dim=1, activation=\"linear\"))\n",
    "model.compile(loss=\"mse\", optimizer=sgd)"
   ]
  },
  {
   "cell_type": "code",
   "execution_count": 5,
   "id": "8bcbc8b0",
   "metadata": {},
   "outputs": [
    {
     "name": "stdout",
     "output_type": "stream",
     "text": [
      "Epoch 1/5\n",
      "1/1 [==============================] - 0s 148ms/step - loss: 5.0580\n",
      "Epoch 2/5\n",
      "1/1 [==============================] - 0s 4ms/step - loss: 4.0024\n",
      "Epoch 3/5\n",
      "1/1 [==============================] - 0s 4ms/step - loss: 3.1680\n",
      "Epoch 4/5\n",
      "1/1 [==============================] - 0s 4ms/step - loss: 2.5084\n",
      "Epoch 5/5\n",
      "1/1 [==============================] - 0s 4ms/step - loss: 1.9870\n"
     ]
    },
    {
     "data": {
      "text/plain": [
       "<keras.src.callbacks.History at 0x2b6cde7a650>"
      ]
     },
     "execution_count": 5,
     "metadata": {},
     "output_type": "execute_result"
    }
   ],
   "source": [
    "model.fit(x_train, y_train, epochs=5)"
   ]
  },
  {
   "cell_type": "code",
   "execution_count": 7,
   "id": "a330e64d",
   "metadata": {},
   "outputs": [
    {
     "name": "stdout",
     "output_type": "stream",
     "text": [
      "1/1 [==============================] - 0s 11ms/step\n",
      "[[1.9093081]]\n"
     ]
    }
   ],
   "source": [
    "print(model.predict(np.array([5])))"
   ]
  },
  {
   "cell_type": "code",
   "execution_count": 8,
   "id": "d2653fd2",
   "metadata": {},
   "outputs": [],
   "source": [
    "# perceptron: And 게이트"
   ]
  },
  {
   "cell_type": "code",
   "execution_count": 9,
   "id": "3fdb5ce4",
   "metadata": {},
   "outputs": [],
   "source": [
    "import numpy as np"
   ]
  },
  {
   "cell_type": "code",
   "execution_count": 10,
   "id": "7f641282",
   "metadata": {},
   "outputs": [],
   "source": [
    "def AND_gate(x1, x2):\n",
    "    w1, w2, theta = 0.5, 0.5, 0.7\n",
    "    tmp = x1 * w1 + x2 * w2\n",
    "    if tmp <= theta:\n",
    "        return 0\n",
    "    elif tmp > theta:\n",
    "        return 1"
   ]
  },
  {
   "cell_type": "code",
   "execution_count": 11,
   "id": "7e62985f",
   "metadata": {},
   "outputs": [],
   "source": [
    "def AND_np(x1, x2):\n",
    "    x = np.array([x1, x2])\n",
    "    w = np.array([0.5, 0.5])\n",
    "    b = -0.7\n",
    "    tmp = np.sum(w*x)+b\n",
    "    if tmp <= 0:\n",
    "        return 0\n",
    "    else:\n",
    "        return 1"
   ]
  },
  {
   "cell_type": "code",
   "execution_count": 25,
   "id": "d8540a70",
   "metadata": {},
   "outputs": [
    {
     "data": {
      "text/plain": [
       "0"
      ]
     },
     "execution_count": 25,
     "metadata": {},
     "output_type": "execute_result"
    }
   ],
   "source": [
    "AND_gate(0,1)"
   ]
  },
  {
   "cell_type": "code",
   "execution_count": 12,
   "id": "d3bdd3c2",
   "metadata": {},
   "outputs": [],
   "source": [
    "def NAND_gate(x1, x2):\n",
    "    w1, w2, theta = -0.5, -0.5, -0.7\n",
    "    tmp = x1*w1 + x2*w2\n",
    "    if tmp <= theta:\n",
    "        return 0\n",
    "    elif tmp > theta:\n",
    "        return 1"
   ]
  },
  {
   "cell_type": "code",
   "execution_count": 13,
   "id": "2dfafa1a",
   "metadata": {},
   "outputs": [],
   "source": [
    "def NAND_np(x1, x2):\n",
    "    x = np.array([x1,x2])\n",
    "    w = np.array([-0.5, -0.5])\n",
    "    b = 0.7\n",
    "    tmp = np.sum(w*x)+b\n",
    "    if tmp <= 0:\n",
    "        return 0\n",
    "    else:\n",
    "        return 1"
   ]
  },
  {
   "cell_type": "code",
   "execution_count": 22,
   "id": "66807e00",
   "metadata": {},
   "outputs": [
    {
     "data": {
      "text/plain": [
       "1"
      ]
     },
     "execution_count": 22,
     "metadata": {},
     "output_type": "execute_result"
    }
   ],
   "source": [
    "NAND_np(1,0)"
   ]
  },
  {
   "cell_type": "code",
   "execution_count": 14,
   "id": "4a10e645",
   "metadata": {},
   "outputs": [],
   "source": [
    "def OR_gate(x1, x2):\n",
    "    w1, w2, theta = 0.5, 0.5, 0.2\n",
    "    tmp = x1*w1 + x2*w2\n",
    "    if tmp <= theta:\n",
    "        return 0\n",
    "    elif tmp > theta:\n",
    "        return 1"
   ]
  },
  {
   "cell_type": "code",
   "execution_count": 28,
   "id": "a799ae73",
   "metadata": {},
   "outputs": [
    {
     "data": {
      "text/plain": [
       "1"
      ]
     },
     "execution_count": 28,
     "metadata": {},
     "output_type": "execute_result"
    }
   ],
   "source": [
    "OR_gate(0,1)"
   ]
  },
  {
   "cell_type": "code",
   "execution_count": 19,
   "id": "2a337e29",
   "metadata": {},
   "outputs": [],
   "source": [
    "def OR_np(x1, x2):\n",
    "    x = np.array([x1, x2])\n",
    "    w = np.array([0.5, 0.5])\n",
    "    b = -0.2\n",
    "    tmp = np.sum(w*x) + b\n",
    "    if tmp <= 0:\n",
    "        return 0\n",
    "    else:\n",
    "        return 1"
   ]
  },
  {
   "cell_type": "code",
   "execution_count": 30,
   "id": "5904d4ee",
   "metadata": {},
   "outputs": [],
   "source": [
    "# Step Function\n",
    "import numpy as np\n",
    "import matplotlib.pyplot as plt"
   ]
  },
  {
   "cell_type": "code",
   "execution_count": 31,
   "id": "3fbf2fbf",
   "metadata": {},
   "outputs": [],
   "source": [
    "def step_function(x):\n",
    "    return np.array(x > 0, dtype=np.int)"
   ]
  },
  {
   "cell_type": "code",
   "execution_count": 32,
   "id": "62627c0b",
   "metadata": {},
   "outputs": [
    {
     "name": "stderr",
     "output_type": "stream",
     "text": [
      "C:\\Users\\leah5\\AppData\\Local\\Temp\\ipykernel_4080\\4122757369.py:2: DeprecationWarning: `np.int` is a deprecated alias for the builtin `int`. To silence this warning, use `int` by itself. Doing this will not modify any behavior and is safe. When replacing `np.int`, you may wish to use e.g. `np.int64` or `np.int32` to specify the precision. If you wish to review your current use, check the release note link for additional information.\n",
      "Deprecated in NumPy 1.20; for more details and guidance: https://numpy.org/devdocs/release/1.20.0-notes.html#deprecations\n",
      "  return np.array(x > 0, dtype=np.int)\n"
     ]
    },
    {
     "data": {
      "image/png": "[encoded data removed]",
      "text/plain": [
       "<Figure size 640x480 with 1 Axes>"
      ]
     },
     "metadata": {},
     "output_type": "display_data"
    }
   ],
   "source": [
    "x = np.arange(-5.0, 5.0, 0.1)\n",
    "y = step_function(x)\n",
    "\n",
    "plt.plot(x,y)\n",
    "plt.ylim(-0.1, 1.1)\n",
    "plt.show()"
   ]
  },
  {
   "cell_type": "code",
   "execution_count": 33,
   "id": "d71a31d5",
   "metadata": {},
   "outputs": [],
   "source": [
    "# Sigmoid Function\n",
    "def sigmoid(x):\n",
    "    return 1/(1 + np.exp(-x))"
   ]
  },
  {
   "cell_type": "code",
   "execution_count": 34,
   "id": "3c5643d2",
   "metadata": {},
   "outputs": [],
   "source": [
    "x = np.arange(-5.0, 5.0, 0.1)\n",
    "y = sigmoid(x)"
   ]
  },
  {
   "cell_type": "code",
   "execution_count": 35,
   "id": "53abac8d",
   "metadata": {},
   "outputs": [
    {
     "data": {
      "image/png": "[encoded data removed]",
      "text/plain": [
       "<Figure size 640x480 with 1 Axes>"
      ]
     },
     "metadata": {},
     "output_type": "display_data"
    }
   ],
   "source": [
    "plt.plot(x,y)\n",
    "plt.ylim(-0.1, 1.1)\n",
    "plt.vlines(x=0, ymin=-0.1, ymax=1.1, color=\"black\")\n",
    "plt.show()"
   ]
  },
  {
   "cell_type": "code",
   "execution_count": 48,
   "id": "55819ee8",
   "metadata": {},
   "outputs": [
    {
     "data": {
      "text/plain": [
       "0.5"
      ]
     },
     "execution_count": 48,
     "metadata": {},
     "output_type": "execute_result"
    }
   ],
   "source": [
    "sigmoid(0)"
   ]
  },
  {
   "cell_type": "code",
   "execution_count": 36,
   "id": "4f9c968c",
   "metadata": {},
   "outputs": [],
   "source": [
    "# ReLu Function\n",
    "def ReLU(x):\n",
    "    return np.maximum(0, x)"
   ]
  },
  {
   "cell_type": "code",
   "execution_count": 40,
   "id": "239c9db4",
   "metadata": {},
   "outputs": [
    {
     "data": {
      "image/png": "[encoded data removed]",
      "text/plain": [
       "<Figure size 640x480 with 1 Axes>"
      ]
     },
     "metadata": {},
     "output_type": "display_data"
    }
   ],
   "source": [
    "x = np.arange(-5.0, 5.0, 0.1)\n",
    "y = ReLU(x)\n",
    "\n",
    "plt.plot(x, y)\n",
    "plt.ylim(-0.1, 1.1)\n",
    "plt.vlines(x=0,ymin=-0.1, ymax=1.1, color=\"black\")\n",
    "plt.show()"
   ]
  },
  {
   "cell_type": "code",
   "execution_count": 49,
   "id": "66925c01",
   "metadata": {},
   "outputs": [],
   "source": [
    "# 데이터 로드 및 train&test 분리"
   ]
  },
  {
   "cell_type": "code",
   "execution_count": 51,
   "id": "15bd4c4e",
   "metadata": {},
   "outputs": [],
   "source": [
    "import numpy as np\n",
    "import pandas as pd\n",
    "import random\n",
    "\n",
    "from sklearn.datasets import load_iris\n",
    "from sklearn.base import BaseEstimator, ClassifierMixin"
   ]
  },
  {
   "cell_type": "code",
   "execution_count": 52,
   "id": "24caf167",
   "metadata": {},
   "outputs": [],
   "source": [
    "iris_data = load_iris()"
   ]
  },
  {
   "cell_type": "code",
   "execution_count": 55,
   "id": "3376628d",
   "metadata": {},
   "outputs": [],
   "source": [
    "iris_dataset = np.column_stack((iris_data.data, iris_data.target.T))\n",
    "iris_dataset = list(iris_dataset)"
   ]
  },
  {
   "cell_type": "code",
   "execution_count": 56,
   "id": "0bd0777e",
   "metadata": {},
   "outputs": [],
   "source": [
    "random.shuffle(iris_dataset)"
   ]
  },
  {
   "cell_type": "code",
   "execution_count": 57,
   "id": "68246841",
   "metadata": {},
   "outputs": [],
   "source": [
    "def seperate_dataset():\n",
    "    part_A_train = iris_dataset[0:40]\n",
    "    part_A_test = iris_dataset[40:50]\n",
    "    part_B_train = iris_dataset[50:90]\n",
    "    part_B_test = iris_dataset[90:100]\n",
    "    part_C_train = iris_dataset[100:140]\n",
    "    part_C_test = iris_dataset[140:150]\n",
    "    train = np.concatenate((part_A_train, part_B_train, part_C_train))\n",
    "    test = np.concatenate((part_A_test, part_B_test, part_C_test))\n",
    "    \n",
    "    return train, test"
   ]
  },
  {
   "cell_type": "code",
   "execution_count": 58,
   "id": "5e59b662",
   "metadata": {},
   "outputs": [],
   "source": [
    "train, test = seperate_dataset()"
   ]
  },
  {
   "cell_type": "code",
   "execution_count": 59,
   "id": "a57eb83e",
   "metadata": {},
   "outputs": [],
   "source": [
    "x_train = np.array([i[:4] for i in train])\n",
    "y_train = np.array([i[4] for i in train])\n",
    "x_test = np.array([i[:4] for i in test])\n",
    "y_test = np.array([i[4] for i in test])"
   ]
  },
  {
   "cell_type": "code",
   "execution_count": 72,
   "id": "dd9e01b8",
   "metadata": {},
   "outputs": [],
   "source": [
    "# 모델 만들기"
   ]
  },
  {
   "cell_type": "code",
   "execution_count": 105,
   "id": "f1827d6c",
   "metadata": {},
   "outputs": [],
   "source": [
    "class MLP(BaseEstimator, ClassifierMixin):\n",
    "\n",
    "    def __init__(self):\n",
    "        self.input_layer = 4\n",
    "        self.hidden_layer = 5\n",
    "        self.output_layer = 3\n",
    "        self.learning_rate = 0.001\n",
    "        self.max_epochs = 100\n",
    "        self.bias_hidden_value = -1\n",
    "        self.bias_output_value = -1\n",
    "\n",
    "        self.w_hidden = [[2 * random.random() - 1 for i in range(self.hidden_layer)] for j in range(self.input_layer)]\n",
    "        self.w_output = [[2 * random.random() - 1 for i in range(self.output_layer)] for j in range(self.hidden_layer)]\n",
    "\n",
    "        self.bias_hidden = np.array([self.bias_hidden_value for i in range(self.hidden_layer)])\n",
    "        self.bias_output = np.array([self.bias_output_value for i in range(self.output_layer)])\n",
    "\n",
    "        self.n_class =3\n",
    "\n",
    "    def activation_func(self,x):\n",
    "        # sigmoid\n",
    "        return 1 / (1 + np.exp(-x))\n",
    "    \n",
    "    def derivation_func(self,x):\n",
    "        # sigmoid\n",
    "        return x * (1 - x)\n",
    "    \n",
    "    def backpropagation(self,x):\n",
    "        D_output=[]\n",
    "        erro_output = self.output-self.output_l2\n",
    "        D_output = -1 * erro_output * self.derivation_func(self.output_l2)\n",
    "\n",
    "        for i in range(self.hidden_layer):\n",
    "            for j in range(self.output_layer):\n",
    "                self.w_output[i][j] -= self.learning_rate * (D_output[j] * self.output_l1[i])\n",
    "                self.bias_output[j] -= self.learning_rate * D_output[j]\n",
    "\n",
    "        D_hidden = np.matmul(self.w_output, D_output) * self.derivation_func(self.output_l1)\n",
    "\n",
    "        for i in range(self.output_layer):\n",
    "            for j in range(self.hidden_layer):\n",
    "                self.w_hidden[i][j] -= self.learning_rate * (D_hidden[j] * x[i])\n",
    "                self.bias_hidden[j] -= self.learning_rate * D_hidden[j]\n",
    "\n",
    "    def predict(self, x, y):\n",
    "        forecasts = []\n",
    "        forward = self.activation_func(np.matmul(x, self.w_hidden) + self.bias_hidden)\n",
    "        forward = np.matmul(forward, self.w_output) + self.bias_output\n",
    "\n",
    "        for i in forward:\n",
    "            forecasts.append(max(enumerate(i), key=lambda x : x[1])[0])\n",
    "        \n",
    "        array_score = []\n",
    "        for i in range(len(forecasts)):\n",
    "            if forecasts[i] == 0:\n",
    "                array_score.append([i, \"Iris-setosa\", forecasts[i], y[i]])\n",
    "            elif forecasts[i] == 1:\n",
    "                array_score.append([i, \"Iris-versicolour\", forecasts[i], y[i]])\n",
    "            elif forecasts[i] == 2:\n",
    "                array_score.append([i, \"Iris-virginica\", forecasts[i], y[i]])\n",
    "        dataframe = pd.DataFrame(array_score, columns=['id','class','model','target'])\n",
    "\n",
    "        return forecasts, dataframe\n",
    "    \n",
    "    def fit(self,x,y):\n",
    "        total_error = 0\n",
    "        n = len(x)\n",
    "\n",
    "        for epoch in range(self.max_epochs):\n",
    "            for (idx, inputs) in enumerate(x):\n",
    "                self.output = np.zeros(self.n_class)\n",
    "                self.output_l1 = self.activation_func(np.dot(inputs, self.w_hidden)+self.bias_hidden.T)\n",
    "                self.output_l2 = self.activation_func(np.dot(self.output_l1, self.w_output)+ self.bias_output.T)\n",
    "                if y[idx] == 0:\n",
    "                    self.output = np.array([1,0,0])\n",
    "                elif y[idx] == 1:\n",
    "                    self.output = np.array([0,1,0])\n",
    "                elif y[idx] == 2:\n",
    "                    self.output = np.array([0,0,1])\n",
    "\n",
    "                square_error = 0\n",
    "                for i in range(self.output_layer):\n",
    "                    erro = (self.output[i] - self.output_l2[i]) ** 2\n",
    "                    square_error = square_error + 0.05 * erro\n",
    "                    total_error = total_error + square_error\n",
    "                self.backpropagation(inputs)\n",
    "\n",
    "            total_error = total_error / n\n",
    "            print(f\"[Epoch {epoch+1}] Total_error : {total_error}\")"
   ]
  },
  {
   "cell_type": "code",
   "execution_count": 90,
   "id": "839d7b1d",
   "metadata": {},
   "outputs": [],
   "source": [
    "input_layer = 4\n",
    "hidden_layer = 5\n",
    "output_layer = 3\n",
    "learning_rate = 0.001\n",
    "max_epochs = 100\n",
    "bias_hidden_value = -1\n",
    "bias_output_value = -1\n",
    "\n",
    "w_hidden = [[2 * random.random() - 1 for i in range(5)] for j in range(4)]\n",
    "w_output = [[2 * random.random() - 1 for i in range(3)] for j in range(5)]\n",
    "\n",
    "bias_hidden = np.array([-1 for i in range(5)])\n",
    "bias_output = np.array([-1 for i in range(3)])\n",
    "n_class =3"
   ]
  },
  {
   "cell_type": "code",
   "execution_count": 91,
   "id": "53feac74",
   "metadata": {},
   "outputs": [],
   "source": [
    "def activation_func(x): # sigmoid 함수\n",
    "    # sigmoid\n",
    "    return 1 / (1 + np.exp(-x))"
   ]
  },
  {
   "cell_type": "code",
   "execution_count": 92,
   "id": "84acb0b2",
   "metadata": {},
   "outputs": [],
   "source": [
    "def derivation_func(x): # 도함수\n",
    "    # sigmoid\n",
    "    return x * (1 - x)"
   ]
  },
  {
   "cell_type": "code",
   "execution_count": 93,
   "id": "f7873ffb",
   "metadata": {},
   "outputs": [],
   "source": [
    "def backpropagation(x): # 역전파 -> 가중치를 업데이트 하겠다는 뜻\n",
    "    D_output=[]\n",
    "    erro_output = output-output_l2\n",
    "    D_output = -1 * erro_output * derivation_func(output_l2)\n",
    "\n",
    "    for i in range(hidden_layer):\n",
    "        for j in range(output_layer):\n",
    "            w_output[i][j] -= learning_rate * (D_output[j] * output_l1[i])\n",
    "            bias_output[j] -= learning_rate * D_output[j]\n",
    "\n",
    "    D_hidden = np.matmul(w_output, D_output) * derivation_func(self.output_l1)\n",
    "\n",
    "    for i in range(output_layer):\n",
    "        for j in range(hidden_layer):\n",
    "            w_hidden[i][j] -= learning_rate * (D_hidden[j] * x[i])\n",
    "            bias_hidden[j] -= learning_rate * D_hidden[j]"
   ]
  },
  {
   "cell_type": "code",
   "execution_count": 94,
   "id": "3be5b3da",
   "metadata": {},
   "outputs": [],
   "source": [
    "def predict(x, y) # 모델 예측\n",
    "    forecasts = []\n",
    "    forward = activation_func(np.matmul(x, w_hidden) + bias_hidden)\n",
    "    forward = np.matmul(forward, w_output) + bias_output\n",
    "\n",
    "    for i in forward:\n",
    "        forecasts.append(max(enumerate(i), key=lambda x : x[1])[0])\n",
    "\n",
    "    array_score = []\n",
    "    for i in range(len(forecasts)):\n",
    "        if forecasts[i] == 0:\n",
    "            array_score.append([i, \"Iris-setosa\", forecasts[i], y[i]])\n",
    "        elif forecasts[i] == 1:\n",
    "            array_score.append([i, \"Iris-versicolour\", forecasts[i], y[i]])\n",
    "        elif forecasts[i] == 2:\n",
    "            array_score.append([i, \"Iris-virginica\", forecasts[i], y[i]])\n",
    "    dataframe = pd.DataFrame(array_score, columns=['id','class','model','target'])\n",
    "\n",
    "    return forecasts, dataframe"
   ]
  },
  {
   "cell_type": "code",
   "execution_count": 95,
   "id": "bb9a6a61",
   "metadata": {},
   "outputs": [],
   "source": [
    "def fit(x,y): # 모델 학습\n",
    "    total_error = 0\n",
    "    n = len(x)\n",
    "\n",
    "    for epoch in range(max_epochs):\n",
    "        for (idx, inputs) in enumerate(x):\n",
    "            output = np.zeros(n_class)\n",
    "            output_l1 = activation_func(np.dot(inputs, w_hidden)+bias_hidden.T) # 히든 레이어 가중치 보완 (편향값 b, 가중치값 w)\n",
    "            output_l2 = activation_func(np.dot(output_l1, w_output)+ bias_output.T) # 결과 레이어 가중치 보완 (편향값 b, 가중치값 w)\n",
    "            if y[idx] == 0:\n",
    "                output = np.array([1,0,0])\n",
    "            elif y[idx] == 1:\n",
    "                output = np.array([0,1,0])\n",
    "            elif y[idx] == 2:\n",
    "                output = np.array([0,0,1])\n",
    "\n",
    "            square_error = 0\n",
    "            for i in range(output_layer):\n",
    "                erro = (output[i] - output_l2[i]) ** 2\n",
    "                square_error = square_error + 0.05 * erro\n",
    "                total_error = total_error + square_error\n",
    "            backpropagation(inputs)\n",
    "\n",
    "        total_error = total_error / n\n",
    "        print(f\"[Epoch {epoch+1}] Total_error : {total_error}\")"
   ]
  },
  {
   "cell_type": "code",
   "execution_count": 109,
   "id": "c375fe1b",
   "metadata": {},
   "outputs": [
    {
     "name": "stdout",
     "output_type": "stream",
     "text": [
      "[Epoch 1] Total_error : 0.07237037908608127\n",
      "[Epoch 2] Total_error : 0.07267560242153744\n",
      "[Epoch 3] Total_error : 0.07247305783395167\n",
      "[Epoch 4] Total_error : 0.0722951172406074\n",
      "[Epoch 5] Total_error : 0.07205120642844053\n",
      "[Epoch 6] Total_error : 0.07181151547139995\n",
      "[Epoch 7] Total_error : 0.07157736350952816\n",
      "[Epoch 8] Total_error : 0.07134946618190816\n",
      "[Epoch 9] Total_error : 0.07112848430040412\n",
      "[Epoch 10] Total_error : 0.07091500938298845\n",
      "[Epoch 11] Total_error : 0.07070954707594769\n",
      "[Epoch 12] Total_error : 0.07051250434330111\n",
      "[Epoch 13] Total_error : 0.0703241813181143\n",
      "[Epoch 14] Total_error : 0.0701447682067496\n",
      "[Epoch 15] Total_error : 0.06997434714319627\n",
      "[Epoch 16] Total_error : 0.06981289844777012\n",
      "[Epoch 17] Total_error : 0.06966031041468736\n",
      "[Epoch 18] Total_error : 0.06951639156966803\n",
      "[Epoch 19] Total_error : 0.06938088430355892\n",
      "[Epoch 20] Total_error : 0.06925347887683471\n",
      "[Epoch 21] Total_error : 0.06913382696347074\n",
      "[Epoch 22] Total_error : 0.06902155411820211\n",
      "[Epoch 23] Total_error : 0.06891627077113215\n",
      "[Epoch 24] Total_error : 0.0688175815510174\n",
      "[Epoch 25] Total_error : 0.06872509289799124\n",
      "[Epoch 26] Total_error : 0.06863841904277394\n",
      "[Epoch 27] Total_error : 0.06855718650464702\n",
      "[Epoch 28] Total_error : 0.06848103730099497\n",
      "[Epoch 29] Total_error : 0.0684096310751015\n",
      "[Epoch 30] Total_error : 0.06840904313515872\n",
      "[Epoch 31] Total_error : 0.06939148609937781\n",
      "[Epoch 32] Total_error : 0.06926876145399014\n",
      "[Epoch 33] Total_error : 0.06914445191978119\n",
      "[Epoch 34] Total_error : 0.06902756328543713\n",
      "[Epoch 35] Total_error : 0.06891793156985776\n",
      "[Epoch 36] Total_error : 0.06881527803513574\n",
      "[Epoch 37] Total_error : 0.06871929435721108\n",
      "[Epoch 38] Total_error : 0.06862965239244324\n",
      "[Epoch 39] Total_error : 0.06854601237670727\n",
      "[Epoch 40] Total_error : 0.06846803001054393\n",
      "[Epoch 41] Total_error : 0.06839536237557452\n",
      "[Epoch 42] Total_error : 0.06832767270296092\n",
      "[Epoch 43] Total_error : 0.06826463407131096\n",
      "[Epoch 44] Total_error : 0.06820593214646996\n",
      "[Epoch 45] Total_error : 0.06815126709295062\n",
      "[Epoch 46] Total_error : 0.06810035479068687\n",
      "[Epoch 47] Total_error : 0.06805292748547256\n",
      "[Epoch 48] Total_error : 0.06800873399034571\n",
      "[Epoch 49] Total_error : 0.06796753954105617\n",
      "[Epoch 50] Total_error : 0.06792912539358856\n",
      "[Epoch 51] Total_error : 0.06789328823684279\n",
      "[Epoch 52] Total_error : 0.06785983947983079\n",
      "[Epoch 53] Total_error : 0.06782860446054796\n",
      "[Epoch 54] Total_error : 0.06779942161319912\n",
      "[Epoch 55] Total_error : 0.06777214162167172\n",
      "[Epoch 56] Total_error : 0.06774662657994913\n",
      "[Epoch 57] Total_error : 0.06772274917434998\n",
      "[Epoch 58] Total_error : 0.06770039189789541\n",
      "[Epoch 59] Total_error : 0.06767944630352969\n",
      "[Epoch 60] Total_error : 0.06765981230018304\n",
      "[Epoch 61] Total_error : 0.0676413974936095\n",
      "[Epoch 62] Total_error : 0.067624116572414\n",
      "[Epoch 63] Total_error : 0.06760789073859222\n",
      "[Epoch 64] Total_error : 0.06759264718114787\n",
      "[Epoch 65] Total_error : 0.06757831859084266\n",
      "[Epoch 66] Total_error : 0.06756484271382526\n",
      "[Epoch 67] Total_error : 0.06755216194170971\n",
      "[Epoch 68] Total_error : 0.06754022293561385\n",
      "[Epoch 69] Total_error : 0.06752897628167381\n",
      "[Epoch 70] Total_error : 0.06751837617561901\n",
      "[Epoch 71] Total_error : 0.06750838013408655\n",
      "[Epoch 72] Total_error : 0.06749894873047933\n",
      "[Epoch 73] Total_error : 0.06749004535330312\n",
      "[Epoch 74] Total_error : 0.06748163598506059\n",
      "[Epoch 75] Total_error : 0.0674736889999217\n",
      "[Epoch 76] Total_error : 0.06746617497852549\n",
      "[Epoch 77] Total_error : 0.0674590665384051\n",
      "[Epoch 78] Total_error : 0.06745233817865155\n",
      "[Epoch 79] Total_error : 0.06744596613755346\n",
      "[Epoch 80] Total_error : 0.06743992826205844\n",
      "[Epoch 81] Total_error : 0.06743420388800574\n",
      "[Epoch 82] Total_error : 0.06742877373017549\n",
      "[Epoch 83] Total_error : 0.06742361978128529\n",
      "[Epoch 84] Total_error : 0.06741872521914445\n",
      "[Epoch 85] Total_error : 0.06741407432125084\n",
      "[Epoch 86] Total_error : 0.06740965238617833\n",
      "[Epoch 87] Total_error : 0.06740544566116562\n",
      "[Epoch 88] Total_error : 0.0674014412753701\n",
      "[Epoch 89] Total_error : 0.06739762717830051\n",
      "[Epoch 90] Total_error : 0.06739399208298626\n",
      "[Epoch 91] Total_error : 0.06739052541348316\n",
      "[Epoch 92] Total_error : 0.06738721725634968\n",
      "[Epoch 93] Total_error : 0.06738405831576419\n",
      "[Epoch 94] Total_error : 0.06738103987198028\n",
      "[Epoch 95] Total_error : 0.0673781537428469\n",
      "[Epoch 96] Total_error : 0.06737539224814364\n",
      "[Epoch 97] Total_error : 0.06737274817650313\n",
      "[Epoch 98] Total_error : 0.0673702147547148\n",
      "[Epoch 99] Total_error : 0.06736778561921869\n",
      "[Epoch 100] Total_error : 0.06736545478961883\n"
     ]
    }
   ],
   "source": [
    "mlp = MLP()\n",
    "mlp.fit(x_train, y_train)\n",
    "\n",
    "forecast, df = mlp.predict(x_test, y_test)"
   ]
  },
  {
   "cell_type": "code",
   "execution_count": null,
   "id": "cb9847df",
   "metadata": {},
   "outputs": [],
   "source": []
  },
  {
   "cell_type": "code",
   "execution_count": null,
   "id": "f311a781",
   "metadata": {},
   "outputs": [],
   "source": []
  }
 ],
 "metadata": {
  "kernelspec": {
   "display_name": "Python 3 (ipykernel)",
   "language": "python",
   "name": "python3"
  },
  "language_info": {
   "codemirror_mode": {
    "name": "ipython",
    "version": 3
   },
   "file_extension": ".py",
   "mimetype": "text/x-python",
   "name": "python",
   "nbconvert_exporter": "python",
   "pygments_lexer": "ipython3",
   "version": "3.10.9"
  }
 },
 "nbformat": 4,
 "nbformat_minor": 5
}
